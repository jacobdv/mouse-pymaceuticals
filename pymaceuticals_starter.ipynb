{
 "cells": [
  {
   "cell_type": "markdown",
   "metadata": {},
   "source": [
    "# Analysis"
   ]
  },
  {
   "cell_type": "markdown",
   "metadata": {},
   "source": [
    "##### Mouse Sex Breakdown"
   ]
  },
  {
   "cell_type": "markdown",
   "metadata": {},
   "source": [
    "The sex of the mice was split evenly. This data comes from 249 mice (125 Male, 124 Female), including one female mouse that was later removed from the dataset because of duplicate timepoints. It would be beneficial to further analyze mouse sex within treatment regimens to see if there are further effects.\n",
    "\n",
    "<img src=\"Images/Mouse_Sex_Pie.png\">"
   ]
  },
  {
   "cell_type": "markdown",
   "metadata": {},
   "source": [
    "##### Final Tumor Volume"
   ]
  },
  {
   "cell_type": "markdown",
   "metadata": {},
   "source": [
    "Four drug treatment regimens were selected for additional analysis. As represented by the box and whisker plot, it is clear that Capomulin and Ramican were more successful in reducing tumor volume than Infubinol or Ceftamin, though Infubinol does have an outlier that falls in the ranges of Capomulin and Ramicane.  \n",
    "\n",
    "<img src=\"Images/Final_Tumor_Volume_Box_Whisker.png\">"
   ]
  },
  {
   "cell_type": "markdown",
   "metadata": {},
   "source": [
    "##### Mouse x401 Tumor Volume"
   ]
  },
  {
   "cell_type": "markdown",
   "metadata": {},
   "source": [
    "From the mice treated with Capomulin, mouse x401 was randomly selected for individual analysis. Across the ten timepoints, the graph shows the successful effects of Capomulin in reducing the tumor volume in mouse x401. With a final tumor volume around 28 cubic millimeters, mouse x401 does fall in the lower whisker for Capomulin's box and whisker graph, so these results may not be fully generalizable but it is a good indicator for Capomulin's overall effectiveness.\n",
    "\n",
    "<img src=\"Images/Mouse_x401_TumorVolume_vs_Timepoint.png\">"
   ]
  },
  {
   "cell_type": "markdown",
   "metadata": {},
   "source": [
    "# Calculations"
   ]
  },
  {
   "cell_type": "code",
   "execution_count": 30,
   "metadata": {},
   "outputs": [],
   "source": [
    "# Dependencies and Setup\n",
    "import matplotlib.pyplot as plt\n",
    "import pandas as pd\n",
    "import scipy.stats as stats\n",
    "mouse_metadata = pd.read_csv(\"data/Mouse_metadata.csv\")\n",
    "study_results = pd.read_csv(\"data/Study_results.csv\")"
   ]
  },
  {
   "cell_type": "code",
   "execution_count": 2,
   "metadata": {},
   "outputs": [
    {
     "data": {
      "text/html": [
       "<div>\n",
       "<style scoped>\n",
       "    .dataframe tbody tr th:only-of-type {\n",
       "        vertical-align: middle;\n",
       "    }\n",
       "\n",
       "    .dataframe tbody tr th {\n",
       "        vertical-align: top;\n",
       "    }\n",
       "\n",
       "    .dataframe thead th {\n",
       "        text-align: right;\n",
       "    }\n",
       "</style>\n",
       "<table border=\"1\" class=\"dataframe\">\n",
       "  <thead>\n",
       "    <tr style=\"text-align: right;\">\n",
       "      <th></th>\n",
       "      <th>Mouse ID</th>\n",
       "      <th>Drug Regimen</th>\n",
       "      <th>Sex</th>\n",
       "      <th>Age_months</th>\n",
       "      <th>Weight (g)</th>\n",
       "      <th>Timepoint</th>\n",
       "      <th>Tumor Volume (mm3)</th>\n",
       "      <th>Metastatic Sites</th>\n",
       "    </tr>\n",
       "  </thead>\n",
       "  <tbody>\n",
       "    <tr>\n",
       "      <th>0</th>\n",
       "      <td>k403</td>\n",
       "      <td>Ramicane</td>\n",
       "      <td>Male</td>\n",
       "      <td>21</td>\n",
       "      <td>16</td>\n",
       "      <td>0</td>\n",
       "      <td>45.000000</td>\n",
       "      <td>0</td>\n",
       "    </tr>\n",
       "    <tr>\n",
       "      <th>1</th>\n",
       "      <td>k403</td>\n",
       "      <td>Ramicane</td>\n",
       "      <td>Male</td>\n",
       "      <td>21</td>\n",
       "      <td>16</td>\n",
       "      <td>5</td>\n",
       "      <td>38.825898</td>\n",
       "      <td>0</td>\n",
       "    </tr>\n",
       "    <tr>\n",
       "      <th>2</th>\n",
       "      <td>k403</td>\n",
       "      <td>Ramicane</td>\n",
       "      <td>Male</td>\n",
       "      <td>21</td>\n",
       "      <td>16</td>\n",
       "      <td>10</td>\n",
       "      <td>35.014271</td>\n",
       "      <td>1</td>\n",
       "    </tr>\n",
       "    <tr>\n",
       "      <th>3</th>\n",
       "      <td>k403</td>\n",
       "      <td>Ramicane</td>\n",
       "      <td>Male</td>\n",
       "      <td>21</td>\n",
       "      <td>16</td>\n",
       "      <td>15</td>\n",
       "      <td>34.223992</td>\n",
       "      <td>1</td>\n",
       "    </tr>\n",
       "    <tr>\n",
       "      <th>4</th>\n",
       "      <td>k403</td>\n",
       "      <td>Ramicane</td>\n",
       "      <td>Male</td>\n",
       "      <td>21</td>\n",
       "      <td>16</td>\n",
       "      <td>20</td>\n",
       "      <td>32.997729</td>\n",
       "      <td>1</td>\n",
       "    </tr>\n",
       "    <tr>\n",
       "      <th>...</th>\n",
       "      <td>...</td>\n",
       "      <td>...</td>\n",
       "      <td>...</td>\n",
       "      <td>...</td>\n",
       "      <td>...</td>\n",
       "      <td>...</td>\n",
       "      <td>...</td>\n",
       "      <td>...</td>\n",
       "    </tr>\n",
       "    <tr>\n",
       "      <th>1888</th>\n",
       "      <td>z969</td>\n",
       "      <td>Naftisol</td>\n",
       "      <td>Male</td>\n",
       "      <td>9</td>\n",
       "      <td>30</td>\n",
       "      <td>25</td>\n",
       "      <td>63.145652</td>\n",
       "      <td>2</td>\n",
       "    </tr>\n",
       "    <tr>\n",
       "      <th>1889</th>\n",
       "      <td>z969</td>\n",
       "      <td>Naftisol</td>\n",
       "      <td>Male</td>\n",
       "      <td>9</td>\n",
       "      <td>30</td>\n",
       "      <td>30</td>\n",
       "      <td>65.841013</td>\n",
       "      <td>3</td>\n",
       "    </tr>\n",
       "    <tr>\n",
       "      <th>1890</th>\n",
       "      <td>z969</td>\n",
       "      <td>Naftisol</td>\n",
       "      <td>Male</td>\n",
       "      <td>9</td>\n",
       "      <td>30</td>\n",
       "      <td>35</td>\n",
       "      <td>69.176246</td>\n",
       "      <td>4</td>\n",
       "    </tr>\n",
       "    <tr>\n",
       "      <th>1891</th>\n",
       "      <td>z969</td>\n",
       "      <td>Naftisol</td>\n",
       "      <td>Male</td>\n",
       "      <td>9</td>\n",
       "      <td>30</td>\n",
       "      <td>40</td>\n",
       "      <td>70.314904</td>\n",
       "      <td>4</td>\n",
       "    </tr>\n",
       "    <tr>\n",
       "      <th>1892</th>\n",
       "      <td>z969</td>\n",
       "      <td>Naftisol</td>\n",
       "      <td>Male</td>\n",
       "      <td>9</td>\n",
       "      <td>30</td>\n",
       "      <td>45</td>\n",
       "      <td>73.867845</td>\n",
       "      <td>4</td>\n",
       "    </tr>\n",
       "  </tbody>\n",
       "</table>\n",
       "<p>1893 rows × 8 columns</p>\n",
       "</div>"
      ],
      "text/plain": [
       "     Mouse ID Drug Regimen   Sex  Age_months  Weight (g)  Timepoint  \\\n",
       "0        k403     Ramicane  Male          21          16          0   \n",
       "1        k403     Ramicane  Male          21          16          5   \n",
       "2        k403     Ramicane  Male          21          16         10   \n",
       "3        k403     Ramicane  Male          21          16         15   \n",
       "4        k403     Ramicane  Male          21          16         20   \n",
       "...       ...          ...   ...         ...         ...        ...   \n",
       "1888     z969     Naftisol  Male           9          30         25   \n",
       "1889     z969     Naftisol  Male           9          30         30   \n",
       "1890     z969     Naftisol  Male           9          30         35   \n",
       "1891     z969     Naftisol  Male           9          30         40   \n",
       "1892     z969     Naftisol  Male           9          30         45   \n",
       "\n",
       "      Tumor Volume (mm3)  Metastatic Sites  \n",
       "0              45.000000                 0  \n",
       "1              38.825898                 0  \n",
       "2              35.014271                 1  \n",
       "3              34.223992                 1  \n",
       "4              32.997729                 1  \n",
       "...                  ...               ...  \n",
       "1888           63.145652                 2  \n",
       "1889           65.841013                 3  \n",
       "1890           69.176246                 4  \n",
       "1891           70.314904                 4  \n",
       "1892           73.867845                 4  \n",
       "\n",
       "[1893 rows x 8 columns]"
      ]
     },
     "execution_count": 2,
     "metadata": {},
     "output_type": "execute_result"
    }
   ],
   "source": [
    "# Combines mouse_metadata and study_results into a single dataset.\n",
    "total_data = pd.merge(mouse_metadata, study_results, how=\"outer\", on=\"Mouse ID\")\n",
    "total_data"
   ]
  },
  {
   "cell_type": "code",
   "execution_count": 3,
   "metadata": {},
   "outputs": [
    {
     "name": "stdout",
     "output_type": "stream",
     "text": [
      "Number of Mice: 249\n"
     ]
    }
   ],
   "source": [
    "# Counts the number of unique Mouse ID's.\n",
    "number_mice = len(total_data[\"Mouse ID\"].unique())\n",
    "print(f\"Number of Mice: {number_mice}\")"
   ]
  },
  {
   "cell_type": "code",
   "execution_count": 4,
   "metadata": {},
   "outputs": [
    {
     "data": {
      "text/html": [
       "<div>\n",
       "<style scoped>\n",
       "    .dataframe tbody tr th:only-of-type {\n",
       "        vertical-align: middle;\n",
       "    }\n",
       "\n",
       "    .dataframe tbody tr th {\n",
       "        vertical-align: top;\n",
       "    }\n",
       "\n",
       "    .dataframe thead th {\n",
       "        text-align: right;\n",
       "    }\n",
       "</style>\n",
       "<table border=\"1\" class=\"dataframe\">\n",
       "  <thead>\n",
       "    <tr style=\"text-align: right;\">\n",
       "      <th></th>\n",
       "      <th>Mouse ID</th>\n",
       "      <th>Drug Regimen</th>\n",
       "      <th>Sex</th>\n",
       "      <th>Age_months</th>\n",
       "      <th>Weight (g)</th>\n",
       "      <th>Timepoint</th>\n",
       "      <th>Tumor Volume (mm3)</th>\n",
       "      <th>Metastatic Sites</th>\n",
       "      <th>Duplicate</th>\n",
       "    </tr>\n",
       "  </thead>\n",
       "  <tbody>\n",
       "    <tr>\n",
       "      <th>908</th>\n",
       "      <td>g989</td>\n",
       "      <td>Propriva</td>\n",
       "      <td>Female</td>\n",
       "      <td>21</td>\n",
       "      <td>26</td>\n",
       "      <td>0</td>\n",
       "      <td>45.000000</td>\n",
       "      <td>0</td>\n",
       "      <td>True</td>\n",
       "    </tr>\n",
       "    <tr>\n",
       "      <th>909</th>\n",
       "      <td>g989</td>\n",
       "      <td>Propriva</td>\n",
       "      <td>Female</td>\n",
       "      <td>21</td>\n",
       "      <td>26</td>\n",
       "      <td>0</td>\n",
       "      <td>45.000000</td>\n",
       "      <td>0</td>\n",
       "      <td>True</td>\n",
       "    </tr>\n",
       "    <tr>\n",
       "      <th>910</th>\n",
       "      <td>g989</td>\n",
       "      <td>Propriva</td>\n",
       "      <td>Female</td>\n",
       "      <td>21</td>\n",
       "      <td>26</td>\n",
       "      <td>5</td>\n",
       "      <td>48.786801</td>\n",
       "      <td>0</td>\n",
       "      <td>True</td>\n",
       "    </tr>\n",
       "    <tr>\n",
       "      <th>911</th>\n",
       "      <td>g989</td>\n",
       "      <td>Propriva</td>\n",
       "      <td>Female</td>\n",
       "      <td>21</td>\n",
       "      <td>26</td>\n",
       "      <td>5</td>\n",
       "      <td>47.570392</td>\n",
       "      <td>0</td>\n",
       "      <td>True</td>\n",
       "    </tr>\n",
       "    <tr>\n",
       "      <th>912</th>\n",
       "      <td>g989</td>\n",
       "      <td>Propriva</td>\n",
       "      <td>Female</td>\n",
       "      <td>21</td>\n",
       "      <td>26</td>\n",
       "      <td>10</td>\n",
       "      <td>51.745156</td>\n",
       "      <td>0</td>\n",
       "      <td>True</td>\n",
       "    </tr>\n",
       "    <tr>\n",
       "      <th>913</th>\n",
       "      <td>g989</td>\n",
       "      <td>Propriva</td>\n",
       "      <td>Female</td>\n",
       "      <td>21</td>\n",
       "      <td>26</td>\n",
       "      <td>10</td>\n",
       "      <td>49.880528</td>\n",
       "      <td>0</td>\n",
       "      <td>True</td>\n",
       "    </tr>\n",
       "    <tr>\n",
       "      <th>914</th>\n",
       "      <td>g989</td>\n",
       "      <td>Propriva</td>\n",
       "      <td>Female</td>\n",
       "      <td>21</td>\n",
       "      <td>26</td>\n",
       "      <td>15</td>\n",
       "      <td>51.325852</td>\n",
       "      <td>1</td>\n",
       "      <td>True</td>\n",
       "    </tr>\n",
       "    <tr>\n",
       "      <th>915</th>\n",
       "      <td>g989</td>\n",
       "      <td>Propriva</td>\n",
       "      <td>Female</td>\n",
       "      <td>21</td>\n",
       "      <td>26</td>\n",
       "      <td>15</td>\n",
       "      <td>53.442020</td>\n",
       "      <td>0</td>\n",
       "      <td>True</td>\n",
       "    </tr>\n",
       "    <tr>\n",
       "      <th>916</th>\n",
       "      <td>g989</td>\n",
       "      <td>Propriva</td>\n",
       "      <td>Female</td>\n",
       "      <td>21</td>\n",
       "      <td>26</td>\n",
       "      <td>20</td>\n",
       "      <td>55.326122</td>\n",
       "      <td>1</td>\n",
       "      <td>True</td>\n",
       "    </tr>\n",
       "    <tr>\n",
       "      <th>917</th>\n",
       "      <td>g989</td>\n",
       "      <td>Propriva</td>\n",
       "      <td>Female</td>\n",
       "      <td>21</td>\n",
       "      <td>26</td>\n",
       "      <td>20</td>\n",
       "      <td>54.657650</td>\n",
       "      <td>1</td>\n",
       "      <td>True</td>\n",
       "    </tr>\n",
       "  </tbody>\n",
       "</table>\n",
       "</div>"
      ],
      "text/plain": [
       "    Mouse ID Drug Regimen     Sex  Age_months  Weight (g)  Timepoint  \\\n",
       "908     g989     Propriva  Female          21          26          0   \n",
       "909     g989     Propriva  Female          21          26          0   \n",
       "910     g989     Propriva  Female          21          26          5   \n",
       "911     g989     Propriva  Female          21          26          5   \n",
       "912     g989     Propriva  Female          21          26         10   \n",
       "913     g989     Propriva  Female          21          26         10   \n",
       "914     g989     Propriva  Female          21          26         15   \n",
       "915     g989     Propriva  Female          21          26         15   \n",
       "916     g989     Propriva  Female          21          26         20   \n",
       "917     g989     Propriva  Female          21          26         20   \n",
       "\n",
       "     Tumor Volume (mm3)  Metastatic Sites  Duplicate  \n",
       "908           45.000000                 0       True  \n",
       "909           45.000000                 0       True  \n",
       "910           48.786801                 0       True  \n",
       "911           47.570392                 0       True  \n",
       "912           51.745156                 0       True  \n",
       "913           49.880528                 0       True  \n",
       "914           51.325852                 1       True  \n",
       "915           53.442020                 0       True  \n",
       "916           55.326122                 1       True  \n",
       "917           54.657650                 1       True  "
      ]
     },
     "execution_count": 4,
     "metadata": {},
     "output_type": "execute_result"
    }
   ],
   "source": [
    "# Finds mice with duplicate timepoints.\n",
    "total_data[\"Duplicate\"] = total_data.duplicated(subset=[\"Mouse ID\",\"Timepoint\"],keep=False)\n",
    "duplicates = total_data.loc[total_data[\"Duplicate\"] == True]\n",
    "duplicates"
   ]
  },
  {
   "cell_type": "code",
   "execution_count": 5,
   "metadata": {},
   "outputs": [],
   "source": [
    "# Drops all the data for the mouse with duplicate timepoints.\n",
    "cleaned_total_data = pd.DataFrame()\n",
    "cleaned_total_data = total_data[total_data[\"Mouse ID\"] != \"g989\"]"
   ]
  },
  {
   "cell_type": "code",
   "execution_count": 6,
   "metadata": {},
   "outputs": [
    {
     "name": "stdout",
     "output_type": "stream",
     "text": [
      "Number of Mice: 248\n"
     ]
    }
   ],
   "source": [
    "# Counts the mice in the new DataFrame. Equals previous number of mice minus the number of mice removed.\n",
    "number_mice_two = len(cleaned_total_data[\"Mouse ID\"].unique())\n",
    "print(f\"Number of Mice: {number_mice_two}\")"
   ]
  },
  {
   "cell_type": "markdown",
   "metadata": {},
   "source": [
    "## Summary Statistics"
   ]
  },
  {
   "cell_type": "code",
   "execution_count": 7,
   "metadata": {},
   "outputs": [
    {
     "data": {
      "text/html": [
       "<div>\n",
       "<style scoped>\n",
       "    .dataframe tbody tr th:only-of-type {\n",
       "        vertical-align: middle;\n",
       "    }\n",
       "\n",
       "    .dataframe tbody tr th {\n",
       "        vertical-align: top;\n",
       "    }\n",
       "\n",
       "    .dataframe thead th {\n",
       "        text-align: right;\n",
       "    }\n",
       "</style>\n",
       "<table border=\"1\" class=\"dataframe\">\n",
       "  <thead>\n",
       "    <tr style=\"text-align: right;\">\n",
       "      <th></th>\n",
       "      <th>Mean</th>\n",
       "      <th>Median</th>\n",
       "      <th>Variance</th>\n",
       "      <th>Std. Dev.</th>\n",
       "      <th>Std. Error</th>\n",
       "    </tr>\n",
       "    <tr>\n",
       "      <th>Drug Regimen</th>\n",
       "      <th></th>\n",
       "      <th></th>\n",
       "      <th></th>\n",
       "      <th></th>\n",
       "      <th></th>\n",
       "    </tr>\n",
       "  </thead>\n",
       "  <tbody>\n",
       "    <tr>\n",
       "      <th>Capomulin</th>\n",
       "      <td>40.68</td>\n",
       "      <td>41.56</td>\n",
       "      <td>24.95</td>\n",
       "      <td>4.99</td>\n",
       "      <td>0.33</td>\n",
       "    </tr>\n",
       "    <tr>\n",
       "      <th>Ceftamin</th>\n",
       "      <td>52.59</td>\n",
       "      <td>51.78</td>\n",
       "      <td>39.29</td>\n",
       "      <td>6.27</td>\n",
       "      <td>0.47</td>\n",
       "    </tr>\n",
       "    <tr>\n",
       "      <th>Infubinol</th>\n",
       "      <td>52.88</td>\n",
       "      <td>51.82</td>\n",
       "      <td>43.13</td>\n",
       "      <td>6.57</td>\n",
       "      <td>0.49</td>\n",
       "    </tr>\n",
       "    <tr>\n",
       "      <th>Ketapril</th>\n",
       "      <td>55.24</td>\n",
       "      <td>53.70</td>\n",
       "      <td>68.55</td>\n",
       "      <td>8.28</td>\n",
       "      <td>0.60</td>\n",
       "    </tr>\n",
       "    <tr>\n",
       "      <th>Naftisol</th>\n",
       "      <td>54.33</td>\n",
       "      <td>52.51</td>\n",
       "      <td>66.17</td>\n",
       "      <td>8.13</td>\n",
       "      <td>0.60</td>\n",
       "    </tr>\n",
       "    <tr>\n",
       "      <th>Placebo</th>\n",
       "      <td>54.03</td>\n",
       "      <td>52.29</td>\n",
       "      <td>61.17</td>\n",
       "      <td>7.82</td>\n",
       "      <td>0.58</td>\n",
       "    </tr>\n",
       "    <tr>\n",
       "      <th>Propriva</th>\n",
       "      <td>52.32</td>\n",
       "      <td>50.45</td>\n",
       "      <td>43.85</td>\n",
       "      <td>6.62</td>\n",
       "      <td>0.54</td>\n",
       "    </tr>\n",
       "    <tr>\n",
       "      <th>Ramicane</th>\n",
       "      <td>40.22</td>\n",
       "      <td>40.67</td>\n",
       "      <td>23.49</td>\n",
       "      <td>4.85</td>\n",
       "      <td>0.32</td>\n",
       "    </tr>\n",
       "    <tr>\n",
       "      <th>Stelasyn</th>\n",
       "      <td>54.23</td>\n",
       "      <td>52.43</td>\n",
       "      <td>59.45</td>\n",
       "      <td>7.71</td>\n",
       "      <td>0.57</td>\n",
       "    </tr>\n",
       "    <tr>\n",
       "      <th>Zoniferol</th>\n",
       "      <td>53.24</td>\n",
       "      <td>51.82</td>\n",
       "      <td>48.53</td>\n",
       "      <td>6.97</td>\n",
       "      <td>0.52</td>\n",
       "    </tr>\n",
       "  </tbody>\n",
       "</table>\n",
       "</div>"
      ],
      "text/plain": [
       "               Mean  Median  Variance  Std. Dev.  Std. Error\n",
       "Drug Regimen                                                \n",
       "Capomulin     40.68   41.56     24.95       4.99        0.33\n",
       "Ceftamin      52.59   51.78     39.29       6.27        0.47\n",
       "Infubinol     52.88   51.82     43.13       6.57        0.49\n",
       "Ketapril      55.24   53.70     68.55       8.28        0.60\n",
       "Naftisol      54.33   52.51     66.17       8.13        0.60\n",
       "Placebo       54.03   52.29     61.17       7.82        0.58\n",
       "Propriva      52.32   50.45     43.85       6.62        0.54\n",
       "Ramicane      40.22   40.67     23.49       4.85        0.32\n",
       "Stelasyn      54.23   52.43     59.45       7.71        0.57\n",
       "Zoniferol     53.24   51.82     48.53       6.97        0.52"
      ]
     },
     "execution_count": 7,
     "metadata": {},
     "output_type": "execute_result"
    }
   ],
   "source": [
    "# Creates new DataFrames for analysis.\n",
    "grouped_data = pd.DataFrame()\n",
    "summary_stats = pd.DataFrame()\n",
    "# Creates new columns for statistical DataFrame analyzing Tumor Volume.\n",
    "# Rounded to the hundredths place to make it easier to read.\n",
    "grouped_data = cleaned_total_data.groupby([\"Drug Regimen\"])\n",
    "summary_stats[\"Mean\"] = round(grouped_data[\"Tumor Volume (mm3)\"].mean(),2)\n",
    "summary_stats[\"Median\"] = round(grouped_data[\"Tumor Volume (mm3)\"].median(),2)\n",
    "summary_stats[\"Variance\"] = round(grouped_data[\"Tumor Volume (mm3)\"].var(),2) \n",
    "summary_stats[\"Std. Dev.\"] = round(grouped_data[\"Tumor Volume (mm3)\"].std(),2)\n",
    "summary_stats[\"Std. Error\"] = round(grouped_data[\"Tumor Volume (mm3)\"].sem(),2)\n",
    "summary_stats"
   ]
  },
  {
   "cell_type": "code",
   "execution_count": 28,
   "metadata": {},
   "outputs": [
    {
     "data": {
      "text/html": [
       "<div>\n",
       "<style scoped>\n",
       "    .dataframe tbody tr th:only-of-type {\n",
       "        vertical-align: middle;\n",
       "    }\n",
       "\n",
       "    .dataframe tbody tr th {\n",
       "        vertical-align: top;\n",
       "    }\n",
       "\n",
       "    .dataframe thead th {\n",
       "        text-align: right;\n",
       "    }\n",
       "</style>\n",
       "<table border=\"1\" class=\"dataframe\">\n",
       "  <thead>\n",
       "    <tr style=\"text-align: right;\">\n",
       "      <th></th>\n",
       "      <th>Mean</th>\n",
       "      <th>Median</th>\n",
       "      <th>Variance</th>\n",
       "      <th>Std. Dev.</th>\n",
       "      <th>Std. Error</th>\n",
       "    </tr>\n",
       "    <tr>\n",
       "      <th>Drug Regimen</th>\n",
       "      <th></th>\n",
       "      <th></th>\n",
       "      <th></th>\n",
       "      <th></th>\n",
       "      <th></th>\n",
       "    </tr>\n",
       "  </thead>\n",
       "  <tbody>\n",
       "    <tr>\n",
       "      <th>Ramicane</th>\n",
       "      <td>40.22</td>\n",
       "      <td>40.67</td>\n",
       "      <td>23.49</td>\n",
       "      <td>4.85</td>\n",
       "      <td>0.32</td>\n",
       "    </tr>\n",
       "    <tr>\n",
       "      <th>Capomulin</th>\n",
       "      <td>40.68</td>\n",
       "      <td>41.56</td>\n",
       "      <td>24.95</td>\n",
       "      <td>4.99</td>\n",
       "      <td>0.33</td>\n",
       "    </tr>\n",
       "    <tr>\n",
       "      <th>Propriva</th>\n",
       "      <td>52.32</td>\n",
       "      <td>50.45</td>\n",
       "      <td>43.85</td>\n",
       "      <td>6.62</td>\n",
       "      <td>0.54</td>\n",
       "    </tr>\n",
       "    <tr>\n",
       "      <th>Ceftamin</th>\n",
       "      <td>52.59</td>\n",
       "      <td>51.78</td>\n",
       "      <td>39.29</td>\n",
       "      <td>6.27</td>\n",
       "      <td>0.47</td>\n",
       "    </tr>\n",
       "    <tr>\n",
       "      <th>Infubinol</th>\n",
       "      <td>52.88</td>\n",
       "      <td>51.82</td>\n",
       "      <td>43.13</td>\n",
       "      <td>6.57</td>\n",
       "      <td>0.49</td>\n",
       "    </tr>\n",
       "    <tr>\n",
       "      <th>Zoniferol</th>\n",
       "      <td>53.24</td>\n",
       "      <td>51.82</td>\n",
       "      <td>48.53</td>\n",
       "      <td>6.97</td>\n",
       "      <td>0.52</td>\n",
       "    </tr>\n",
       "    <tr>\n",
       "      <th>Placebo</th>\n",
       "      <td>54.03</td>\n",
       "      <td>52.29</td>\n",
       "      <td>61.17</td>\n",
       "      <td>7.82</td>\n",
       "      <td>0.58</td>\n",
       "    </tr>\n",
       "    <tr>\n",
       "      <th>Stelasyn</th>\n",
       "      <td>54.23</td>\n",
       "      <td>52.43</td>\n",
       "      <td>59.45</td>\n",
       "      <td>7.71</td>\n",
       "      <td>0.57</td>\n",
       "    </tr>\n",
       "    <tr>\n",
       "      <th>Naftisol</th>\n",
       "      <td>54.33</td>\n",
       "      <td>52.51</td>\n",
       "      <td>66.17</td>\n",
       "      <td>8.13</td>\n",
       "      <td>0.60</td>\n",
       "    </tr>\n",
       "    <tr>\n",
       "      <th>Ketapril</th>\n",
       "      <td>55.24</td>\n",
       "      <td>53.70</td>\n",
       "      <td>68.55</td>\n",
       "      <td>8.28</td>\n",
       "      <td>0.60</td>\n",
       "    </tr>\n",
       "  </tbody>\n",
       "</table>\n",
       "</div>"
      ],
      "text/plain": [
       "               Mean  Median  Variance  Std. Dev.  Std. Error\n",
       "Drug Regimen                                                \n",
       "Ramicane      40.22   40.67     23.49       4.85        0.32\n",
       "Capomulin     40.68   41.56     24.95       4.99        0.33\n",
       "Propriva      52.32   50.45     43.85       6.62        0.54\n",
       "Ceftamin      52.59   51.78     39.29       6.27        0.47\n",
       "Infubinol     52.88   51.82     43.13       6.57        0.49\n",
       "Zoniferol     53.24   51.82     48.53       6.97        0.52\n",
       "Placebo       54.03   52.29     61.17       7.82        0.58\n",
       "Stelasyn      54.23   52.43     59.45       7.71        0.57\n",
       "Naftisol      54.33   52.51     66.17       8.13        0.60\n",
       "Ketapril      55.24   53.70     68.55       8.28        0.60"
      ]
     },
     "execution_count": 28,
     "metadata": {},
     "output_type": "execute_result"
    }
   ],
   "source": [
    "# Produces the same result as the above cell using the aggregation method.\n",
    "summary_stats_two = pd.DataFrame()\n",
    "summary_stats_two = grouped_data.agg({'Tumor Volume (mm3)' : ['mean','median','var','std','sem']})\n",
    "summary_stats_two.columns = ['Mean','Median','Variance','Std. Dev.','Std. Error']\n",
    "# Rounded to the hundredths place to make it easier to read.\n",
    "summary_stats_two = summary_stats_two.round(2)\n",
    "summary_stats_two.sort_values(\"Mean\", inplace=True)\n",
    "summary_stats_two"
   ]
  },
  {
   "cell_type": "markdown",
   "metadata": {},
   "source": [
    "## Bar and Pie Charts"
   ]
  },
  {
   "cell_type": "code",
   "execution_count": 9,
   "metadata": {},
   "outputs": [
    {
     "data": {
      "text/plain": [
       "<matplotlib.axes._subplots.AxesSubplot at 0x234910a0e10>"
      ]
     },
     "execution_count": 9,
     "metadata": {},
     "output_type": "execute_result"
    },
    {
     "data": {
      "image/png": "[encoded data removed]",
      "text/plain": [
       "<Figure size 432x288 with 1 Axes>"
      ]
     },
     "metadata": {
      "needs_background": "light"
     },
     "output_type": "display_data"
    }
   ],
   "source": [
    "# Creates DataFrame of drug regimens and their corresponding counts. \n",
    "bar = pd.DataFrame({\"Regimens\":['Capomulin','Ceftamin','Infubinol','Ketapril','Naftisol','Placebo','Propriva','Ramicane','Stelasyn','Zoniferol'], \"Counts\":[230,178,178,188,186,181,148,228,181,182]})\n",
    "# Retypes columns.\n",
    "bar[\"Regimens\"] = bar[\"Regimens\"].astype('string')\n",
    "bar[\"Counts\"] = bar[\"Counts\"].astype('int64')\n",
    "# Creates bar plot using pandas.\n",
    "bar.plot.bar(x=\"Regimens\", y=\"Counts\", rot=45, title=\"Number of Measurements for Each Drug Regimen\")"
   ]
  },
  {
   "cell_type": "code",
   "execution_count": 10,
   "metadata": {},
   "outputs": [
    {
     "data": {
      "text/plain": [
       "Text(0.5, 1.0, 'Number of Measurements for Each Drug Regimen')"
      ]
     },
     "execution_count": 10,
     "metadata": {},
     "output_type": "execute_result"
    },
    {
     "data": {
      "image/png": "[encoded data removed]",
      "text/plain": [
       "<Figure size 432x288 with 1 Axes>"
      ]
     },
     "metadata": {
      "needs_background": "light"
     },
     "output_type": "display_data"
    }
   ],
   "source": [
    "# Gets value counts for each drug regimen.\n",
    "regimen_counts = grouped_data[\"Drug Regimen\"].value_counts()\n",
    "# List of drug regimens.\n",
    "regimens = ['Capomulin','Ceftamin','Infubinol','Ketapril','Naftisol','Placebo','Propriva','Ramicane',\n",
    "            'Stelasyn','Zoniferol']\n",
    "# Matplotlib bar graph for drug regimen counts.\n",
    "plt.bar(regimens, regimen_counts, align=\"center\")\n",
    "# Bar graph formatting and labelling.\n",
    "plt.xticks(rotation=45)\n",
    "plt.xlabel(\"Drug Regimens\")\n",
    "plt.ylabel(\"Number of Measurements\")\n",
    "plt.title(\"Number of Measurements for Each Drug Regimen\")\n"
   ]
  },
  {
   "cell_type": "code",
   "execution_count": 33,
   "metadata": {},
   "outputs": [
    {
     "name": "stdout",
     "output_type": "stream",
     "text": [
      "        Mouse ID  Drug Regimen  Age_months  Weight (g)\n",
      "Sex                                                   \n",
      "Female       124           124         124         124\n",
      "Male         125           125         125         125\n"
     ]
    },
    {
     "data": {
      "text/plain": [
       "<matplotlib.axes._subplots.AxesSubplot at 0x23491f3c128>"
      ]
     },
     "execution_count": 33,
     "metadata": {},
     "output_type": "execute_result"
    },
    {
     "data": {
      "image/png": "[encoded data removed]",
      "text/plain": [
       "<Figure size 432x288 with 1 Axes>"
      ]
     },
     "metadata": {},
     "output_type": "display_data"
    }
   ],
   "source": [
    "# Creates DataFrame of only unique Mouse ID's.\n",
    "sex = pd.DataFrame()\n",
    "sex = mouse_metadata.drop_duplicates(\"Mouse ID\")\n",
    "# List of sex values. Count for sex values.\n",
    "sexes = ['Male','Female']\n",
    "counts = sex[\"Sex\"].value_counts()\n",
    "# Generates a pie chart for the counts of mouse sexes using pandas plotting.\n",
    "sex_split = pd.DataFrame()\n",
    "sex_split = sex.groupby([\"Sex\"]).count()\n",
    "sex_split.plot.pie(y=\"Mouse ID\", title =\"Mouse Sex\",sort_columns=True, startangle=45, legend=False,autopct='%1.1f%%')"
   ]
  },
  {
   "cell_type": "code",
   "execution_count": 24,
   "metadata": {},
   "outputs": [
    {
     "data": {
      "text/plain": [
       "Text(0.5, 1.0, 'Mouse Sex')"
      ]
     },
     "execution_count": 24,
     "metadata": {},
     "output_type": "execute_result"
    },
    {
     "data": {
      "image/png": "[encoded data removed]",
      "text/plain": [
       "<Figure size 432x288 with 1 Axes>"
      ]
     },
     "metadata": {},
     "output_type": "display_data"
    }
   ],
   "source": [
    "# Creates the same pie chart as the above cell using matplotlib plotting.\n",
    "plt.pie(counts,labels=sexes,autopct='%1.1f%%',shadow=True,startangle=230)\n",
    "plt.title(\"Mouse Sex\")"
   ]
  },
  {
   "cell_type": "markdown",
   "metadata": {},
   "source": [
    "## Quartiles, Outliers and Boxplots"
   ]
  },
  {
   "cell_type": "code",
   "execution_count": 13,
   "metadata": {},
   "outputs": [],
   "source": [
    "# Creates a DataFrame that only contains Capomulin, Ramicane, Infubinol, and Ceftamin regimins.\n",
    "final_tumor_volume = cleaned_total_data[(cleaned_total_data[\"Drug Regimen\"] == \"Capomulin\") | (cleaned_total_data[\"Drug Regimen\"] == \"Ramicane\") | (cleaned_total_data[\"Drug Regimen\"] == \"Infubinol\") | (cleaned_total_data[\"Drug Regimen\"] == \"Ceftamin\")]\n",
    "# Sorts the DataFrame by Timepoint value and only keeps the highest value for each mouse.\n",
    "final_tumor_volume = final_tumor_volume.sort_values(\"Timepoint\", ascending = False)\n",
    "final_tumor_volume.drop_duplicates(subset='Mouse ID', keep=\"first\",inplace= True)\n"
   ]
  },
  {
   "cell_type": "code",
   "execution_count": 14,
   "metadata": {},
   "outputs": [
    {
     "name": "stdout",
     "output_type": "stream",
     "text": [
      "List of Treatment Regimens: ['Capomulin', 'Ceftamin', 'Infubinol', 'Ketapril', 'Naftisol', 'Placebo', 'Propriva', 'Ramicane', 'Stelasyn', 'Zoniferol']\n",
      "Values below 28.02 could be outliers.\n",
      "Values above 73.3 could be outliers.\n"
     ]
    }
   ],
   "source": [
    "# Prints a list of treatment regimins.\n",
    "print(f\"List of Treatment Regimens: {regimens}\")\n",
    "# Creates new list of Tumor Volume values.\n",
    "tumor_vol_data = cleaned_total_data[\"Tumor Volume (mm3)\"]\n",
    "# Calculates quartiles, iqr, and upper and lower bounds for outliers.\n",
    "quartiles = tumor_vol_data.quantile([.25,.5,.75])\n",
    "# Values are rounded to be easier to read.\n",
    "# Dataset was checked to ensure rounding wouldn't affect outlier calculations.\n",
    "lowerq = round(quartiles[0.25], 2)\n",
    "upperq = round(quartiles[0.75], 2)\n",
    "iqr = round(upperq-lowerq, 2)\n",
    "lower_bound = round(lowerq - (1.5*iqr), 2)\n",
    "upper_bound = round(upperq + (1.5*iqr), 2)\n",
    "print(f\"Values below {lower_bound} could be outliers.\")\n",
    "print(f\"Values above {upper_bound} could be outliers.\")"
   ]
  },
  {
   "cell_type": "code",
   "execution_count": 15,
   "metadata": {},
   "outputs": [],
   "source": [
    "# Creates DataFrames for each drug type to be analyzed.\n",
    "capomulin = pd.DataFrame()\n",
    "capomulin = final_tumor_volume[(final_tumor_volume[\"Drug Regimen\"] == \"Capomulin\")]\n",
    "ramicane = pd.DataFrame()\n",
    "ramicane = final_tumor_volume[(final_tumor_volume[\"Drug Regimen\"] == \"Ramicane\")]\n",
    "infubinol = pd.DataFrame()\n",
    "infubinol = final_tumor_volume[(final_tumor_volume[\"Drug Regimen\"] == \"Infubinol\")]\n",
    "ceftamin = pd.DataFrame()\n",
    "ceftamin = final_tumor_volume[(final_tumor_volume[\"Drug Regimen\"] == \"Ceftamin\")]"
   ]
  },
  {
   "cell_type": "code",
   "execution_count": 16,
   "metadata": {},
   "outputs": [
    {
     "data": {
      "text/html": [
       "<div>\n",
       "<style scoped>\n",
       "    .dataframe tbody tr th:only-of-type {\n",
       "        vertical-align: middle;\n",
       "    }\n",
       "\n",
       "    .dataframe tbody tr th {\n",
       "        vertical-align: top;\n",
       "    }\n",
       "\n",
       "    .dataframe thead th {\n",
       "        text-align: right;\n",
       "    }\n",
       "</style>\n",
       "<table border=\"1\" class=\"dataframe\">\n",
       "  <thead>\n",
       "    <tr style=\"text-align: right;\">\n",
       "      <th></th>\n",
       "      <th>Mouse ID</th>\n",
       "      <th>Drug Regimen</th>\n",
       "      <th>Sex</th>\n",
       "      <th>Age_months</th>\n",
       "      <th>Weight (g)</th>\n",
       "      <th>Timepoint</th>\n",
       "      <th>Tumor Volume (mm3)</th>\n",
       "      <th>Metastatic Sites</th>\n",
       "      <th>Duplicate</th>\n",
       "    </tr>\n",
       "  </thead>\n",
       "  <tbody>\n",
       "    <tr>\n",
       "      <th>7</th>\n",
       "      <td>k403</td>\n",
       "      <td>Ramicane</td>\n",
       "      <td>Male</td>\n",
       "      <td>21</td>\n",
       "      <td>16</td>\n",
       "      <td>35</td>\n",
       "      <td>26.546993</td>\n",
       "      <td>1</td>\n",
       "      <td>False</td>\n",
       "    </tr>\n",
       "    <tr>\n",
       "      <th>8</th>\n",
       "      <td>k403</td>\n",
       "      <td>Ramicane</td>\n",
       "      <td>Male</td>\n",
       "      <td>21</td>\n",
       "      <td>16</td>\n",
       "      <td>40</td>\n",
       "      <td>24.365505</td>\n",
       "      <td>1</td>\n",
       "      <td>False</td>\n",
       "    </tr>\n",
       "    <tr>\n",
       "      <th>9</th>\n",
       "      <td>k403</td>\n",
       "      <td>Ramicane</td>\n",
       "      <td>Male</td>\n",
       "      <td>21</td>\n",
       "      <td>16</td>\n",
       "      <td>45</td>\n",
       "      <td>22.050126</td>\n",
       "      <td>1</td>\n",
       "      <td>False</td>\n",
       "    </tr>\n",
       "    <tr>\n",
       "      <th>18</th>\n",
       "      <td>s185</td>\n",
       "      <td>Capomulin</td>\n",
       "      <td>Female</td>\n",
       "      <td>3</td>\n",
       "      <td>17</td>\n",
       "      <td>40</td>\n",
       "      <td>25.472143</td>\n",
       "      <td>1</td>\n",
       "      <td>False</td>\n",
       "    </tr>\n",
       "    <tr>\n",
       "      <th>19</th>\n",
       "      <td>s185</td>\n",
       "      <td>Capomulin</td>\n",
       "      <td>Female</td>\n",
       "      <td>3</td>\n",
       "      <td>17</td>\n",
       "      <td>45</td>\n",
       "      <td>23.343598</td>\n",
       "      <td>1</td>\n",
       "      <td>False</td>\n",
       "    </tr>\n",
       "    <tr>\n",
       "      <th>567</th>\n",
       "      <td>a818</td>\n",
       "      <td>Naftisol</td>\n",
       "      <td>Female</td>\n",
       "      <td>12</td>\n",
       "      <td>28</td>\n",
       "      <td>45</td>\n",
       "      <td>74.997764</td>\n",
       "      <td>2</td>\n",
       "      <td>False</td>\n",
       "    </tr>\n",
       "    <tr>\n",
       "      <th>679</th>\n",
       "      <td>c402</td>\n",
       "      <td>Stelasyn</td>\n",
       "      <td>Female</td>\n",
       "      <td>1</td>\n",
       "      <td>27</td>\n",
       "      <td>45</td>\n",
       "      <td>74.040390</td>\n",
       "      <td>3</td>\n",
       "      <td>False</td>\n",
       "    </tr>\n",
       "    <tr>\n",
       "      <th>850</th>\n",
       "      <td>f545</td>\n",
       "      <td>Zoniferol</td>\n",
       "      <td>Female</td>\n",
       "      <td>20</td>\n",
       "      <td>26</td>\n",
       "      <td>45</td>\n",
       "      <td>73.324432</td>\n",
       "      <td>1</td>\n",
       "      <td>False</td>\n",
       "    </tr>\n",
       "    <tr>\n",
       "      <th>930</th>\n",
       "      <td>h246</td>\n",
       "      <td>Ketapril</td>\n",
       "      <td>Male</td>\n",
       "      <td>13</td>\n",
       "      <td>30</td>\n",
       "      <td>45</td>\n",
       "      <td>74.104086</td>\n",
       "      <td>2</td>\n",
       "      <td>False</td>\n",
       "    </tr>\n",
       "    <tr>\n",
       "      <th>1043</th>\n",
       "      <td>k382</td>\n",
       "      <td>Ketapril</td>\n",
       "      <td>Male</td>\n",
       "      <td>22</td>\n",
       "      <td>29</td>\n",
       "      <td>45</td>\n",
       "      <td>73.715619</td>\n",
       "      <td>4</td>\n",
       "      <td>False</td>\n",
       "    </tr>\n",
       "    <tr>\n",
       "      <th>1151</th>\n",
       "      <td>l725</td>\n",
       "      <td>Naftisol</td>\n",
       "      <td>Female</td>\n",
       "      <td>8</td>\n",
       "      <td>26</td>\n",
       "      <td>40</td>\n",
       "      <td>73.693494</td>\n",
       "      <td>3</td>\n",
       "      <td>False</td>\n",
       "    </tr>\n",
       "    <tr>\n",
       "      <th>1152</th>\n",
       "      <td>l725</td>\n",
       "      <td>Naftisol</td>\n",
       "      <td>Female</td>\n",
       "      <td>8</td>\n",
       "      <td>26</td>\n",
       "      <td>45</td>\n",
       "      <td>76.668817</td>\n",
       "      <td>3</td>\n",
       "      <td>False</td>\n",
       "    </tr>\n",
       "    <tr>\n",
       "      <th>1179</th>\n",
       "      <td>m269</td>\n",
       "      <td>Stelasyn</td>\n",
       "      <td>Female</td>\n",
       "      <td>22</td>\n",
       "      <td>28</td>\n",
       "      <td>45</td>\n",
       "      <td>75.123690</td>\n",
       "      <td>1</td>\n",
       "      <td>False</td>\n",
       "    </tr>\n",
       "    <tr>\n",
       "      <th>1203</th>\n",
       "      <td>m650</td>\n",
       "      <td>Ketapril</td>\n",
       "      <td>Male</td>\n",
       "      <td>15</td>\n",
       "      <td>27</td>\n",
       "      <td>45</td>\n",
       "      <td>73.901399</td>\n",
       "      <td>4</td>\n",
       "      <td>False</td>\n",
       "    </tr>\n",
       "    <tr>\n",
       "      <th>1277</th>\n",
       "      <td>o331</td>\n",
       "      <td>Ketapril</td>\n",
       "      <td>Male</td>\n",
       "      <td>24</td>\n",
       "      <td>30</td>\n",
       "      <td>45</td>\n",
       "      <td>78.567014</td>\n",
       "      <td>4</td>\n",
       "      <td>False</td>\n",
       "    </tr>\n",
       "    <tr>\n",
       "      <th>1353</th>\n",
       "      <td>p189</td>\n",
       "      <td>Ketapril</td>\n",
       "      <td>Male</td>\n",
       "      <td>8</td>\n",
       "      <td>28</td>\n",
       "      <td>40</td>\n",
       "      <td>74.106091</td>\n",
       "      <td>4</td>\n",
       "      <td>False</td>\n",
       "    </tr>\n",
       "    <tr>\n",
       "      <th>1354</th>\n",
       "      <td>p189</td>\n",
       "      <td>Ketapril</td>\n",
       "      <td>Male</td>\n",
       "      <td>8</td>\n",
       "      <td>28</td>\n",
       "      <td>45</td>\n",
       "      <td>75.294936</td>\n",
       "      <td>4</td>\n",
       "      <td>False</td>\n",
       "    </tr>\n",
       "    <tr>\n",
       "      <th>1571</th>\n",
       "      <td>t724</td>\n",
       "      <td>Naftisol</td>\n",
       "      <td>Female</td>\n",
       "      <td>2</td>\n",
       "      <td>25</td>\n",
       "      <td>45</td>\n",
       "      <td>75.113288</td>\n",
       "      <td>2</td>\n",
       "      <td>False</td>\n",
       "    </tr>\n",
       "    <tr>\n",
       "      <th>1892</th>\n",
       "      <td>z969</td>\n",
       "      <td>Naftisol</td>\n",
       "      <td>Male</td>\n",
       "      <td>9</td>\n",
       "      <td>30</td>\n",
       "      <td>45</td>\n",
       "      <td>73.867845</td>\n",
       "      <td>4</td>\n",
       "      <td>False</td>\n",
       "    </tr>\n",
       "  </tbody>\n",
       "</table>\n",
       "</div>"
      ],
      "text/plain": [
       "     Mouse ID Drug Regimen     Sex  Age_months  Weight (g)  Timepoint  \\\n",
       "7        k403     Ramicane    Male          21          16         35   \n",
       "8        k403     Ramicane    Male          21          16         40   \n",
       "9        k403     Ramicane    Male          21          16         45   \n",
       "18       s185    Capomulin  Female           3          17         40   \n",
       "19       s185    Capomulin  Female           3          17         45   \n",
       "567      a818     Naftisol  Female          12          28         45   \n",
       "679      c402     Stelasyn  Female           1          27         45   \n",
       "850      f545    Zoniferol  Female          20          26         45   \n",
       "930      h246     Ketapril    Male          13          30         45   \n",
       "1043     k382     Ketapril    Male          22          29         45   \n",
       "1151     l725     Naftisol  Female           8          26         40   \n",
       "1152     l725     Naftisol  Female           8          26         45   \n",
       "1179     m269     Stelasyn  Female          22          28         45   \n",
       "1203     m650     Ketapril    Male          15          27         45   \n",
       "1277     o331     Ketapril    Male          24          30         45   \n",
       "1353     p189     Ketapril    Male           8          28         40   \n",
       "1354     p189     Ketapril    Male           8          28         45   \n",
       "1571     t724     Naftisol  Female           2          25         45   \n",
       "1892     z969     Naftisol    Male           9          30         45   \n",
       "\n",
       "      Tumor Volume (mm3)  Metastatic Sites  Duplicate  \n",
       "7              26.546993                 1      False  \n",
       "8              24.365505                 1      False  \n",
       "9              22.050126                 1      False  \n",
       "18             25.472143                 1      False  \n",
       "19             23.343598                 1      False  \n",
       "567            74.997764                 2      False  \n",
       "679            74.040390                 3      False  \n",
       "850            73.324432                 1      False  \n",
       "930            74.104086                 2      False  \n",
       "1043           73.715619                 4      False  \n",
       "1151           73.693494                 3      False  \n",
       "1152           76.668817                 3      False  \n",
       "1179           75.123690                 1      False  \n",
       "1203           73.901399                 4      False  \n",
       "1277           78.567014                 4      False  \n",
       "1353           74.106091                 4      False  \n",
       "1354           75.294936                 4      False  \n",
       "1571           75.113288                 2      False  \n",
       "1892           73.867845                 4      False  "
      ]
     },
     "execution_count": 16,
     "metadata": {},
     "output_type": "execute_result"
    }
   ],
   "source": [
    "# Creates and prints DataFrame of potential tumor volume outliers.\n",
    "potential_outliers = cleaned_total_data.loc[(cleaned_total_data[\"Tumor Volume (mm3)\"] > upper_bound) | (cleaned_total_data[\"Tumor Volume (mm3)\"] < lower_bound)]\n",
    "potential_outliers"
   ]
  },
  {
   "cell_type": "code",
   "execution_count": 26,
   "metadata": {},
   "outputs": [
    {
     "data": {
      "text/plain": [
       "(0.0, 80.0)"
      ]
     },
     "execution_count": 26,
     "metadata": {},
     "output_type": "execute_result"
    },
    {
     "data": {
      "image/png": "[encoded data removed]",
      "text/plain": [
       "<Figure size 432x288 with 1 Axes>"
      ]
     },
     "metadata": {
      "needs_background": "light"
     },
     "output_type": "display_data"
    }
   ],
   "source": [
    "# Lists regimens for labels and creates variable data to be displayed in box and whisker plot.\n",
    "regimen_labels = ['Capomulin','Ramicane','Infubinol','Ceftamin']\n",
    "data = [capomulin[\"Tumor Volume (mm3)\"],ramicane[\"Tumor Volume (mm3)\"],infubinol[\"Tumor Volume (mm3)\"],ceftamin[\"Tumor Volume (mm3)\"]]\n",
    "# Matplotlib boxplot creation and formatting.\n",
    "plt.boxplot(data, labels=regimen_labels)\n",
    "plt.xlabel(\"Drug Regimens\")\n",
    "plt.ylabel(\"Final Tumor Volume (mm3)\")\n",
    "plt.title(\"Final Tumor Volume (mm3) for Four Drug Regimens\")\n",
    "plt.ylim(0, 80)"
   ]
  },
  {
   "cell_type": "markdown",
   "metadata": {},
   "source": [
    "## Line and Scatter Plots"
   ]
  },
  {
   "cell_type": "code",
   "execution_count": 32,
   "metadata": {},
   "outputs": [
    {
     "data": {
      "text/plain": [
       "Text(0.5, 0, 'Timepoint')"
      ]
     },
     "execution_count": 32,
     "metadata": {},
     "output_type": "execute_result"
    },
    {
     "data": {
      "image/png": "[encoded data removed]",
      "text/plain": [
       "<Figure size 432x288 with 1 Axes>"
      ]
     },
     "metadata": {
      "needs_background": "light"
     },
     "output_type": "display_data"
    }
   ],
   "source": [
    "# Creates DataFrame for capomulin treated mice.\n",
    "capomulin_mouse = pd.DataFrame()\n",
    "# Isolates data for mice that underwent the capomulin treatment regimen.\n",
    "# Isolates data for Mouse ID 'x401' to analyze.\n",
    "capomulin_mouse = cleaned_total_data.loc[(cleaned_total_data[\"Drug Regimen\"] == \"Capomulin\") & (cleaned_total_data[\"Mouse ID\"] == \"x401\")]\n",
    "# Matplotlib line graph of x401's tumor volume across all timepoints with markers at each timepoint.\n",
    "plt.plot(capomulin_mouse[\"Timepoint\"],capomulin_mouse[\"Tumor Volume (mm3)\"], marker='o')\n",
    "# Plot labelling.\n",
    "plt.title(\"Mouse x401's Tumor Volume (mm3) on a Capomulin Treatment Regimen\")\n",
    "plt.ylabel(\"Tumor Volume (mm3)\")\n",
    "plt.xlabel(\"Timepoint\")"
   ]
  },
  {
   "cell_type": "code",
   "execution_count": 19,
   "metadata": {},
   "outputs": [
    {
     "data": {
      "text/plain": [
       "Text(0, 0.5, 'Tumor Volume (mm3)')"
      ]
     },
     "execution_count": 19,
     "metadata": {},
     "output_type": "execute_result"
    },
    {
     "data": {
      "image/png": "[encoded data removed]",
      "text/plain": [
       "<Figure size 432x288 with 1 Axes>"
      ]
     },
     "metadata": {
      "needs_background": "light"
     },
     "output_type": "display_data"
    }
   ],
   "source": [
    "# Creates DataFrame of capomulin averages to be plotted.\n",
    "capomulin_avgs = pd.DataFrame()\n",
    "capomulin_avgs = capomulin.mean()\n",
    "# Matplotlib scatterplot for capomulin treated mice's weight and tumor volume.\n",
    "plt.scatter(capomulin[\"Weight (g)\"],capomulin[\"Tumor Volume (mm3)\"])\n",
    "# Plot labelling.\n",
    "plt.title(\"Tumor Volume (mm3) by Mouse Weight (g)\")\n",
    "plt.xlabel(\"Mouse Weight (g)\")\n",
    "plt.ylabel(\"Tumor Volume (mm3)\")"
   ]
  },
  {
   "cell_type": "markdown",
   "metadata": {},
   "source": [
    "## Correlation and Regression"
   ]
  },
  {
   "cell_type": "code",
   "execution_count": 20,
   "metadata": {},
   "outputs": [],
   "source": [
    "# Calculates statistical values for regression from capomulin mice data.\n",
    "slope, intercept, rvalue, pvalue, std_err = stats.linregress(capomulin[\"Weight (g)\"],capomulin[\"Tumor Volume (mm3)\"])\n",
    "# Calculates and sets a variable for the line of best fit equation.\n",
    "equation = (f\"y = {round(slope, 2)}x + {round(intercept, 2)}\")"
   ]
  },
  {
   "cell_type": "code",
   "execution_count": 21,
   "metadata": {},
   "outputs": [
    {
     "data": {
      "text/plain": [
       "[<matplotlib.lines.Line2D at 0x234914bb358>]"
      ]
     },
     "execution_count": 21,
     "metadata": {},
     "output_type": "execute_result"
    },
    {
     "data": {
      "image/png": "[encoded data removed]",
      "text/plain": [
       "<Figure size 432x288 with 1 Axes>"
      ]
     },
     "metadata": {
      "needs_background": "light"
     },
     "output_type": "display_data"
    }
   ],
   "source": [
    "# Matplotlib scatterplot for capomulin mice data.\n",
    "plt.scatter(capomulin[\"Weight (g)\"],capomulin[\"Tumor Volume (mm3)\"])\n",
    "# Plot labelling.\n",
    "plt.title(\"Tumor Volume (mm3) by Mouse Weight (g)\")\n",
    "plt.xlabel(\"Mouse Weight (g)\")\n",
    "plt.ylabel(\"Tumor Volume (mm3)\")\n",
    "# Adds the line of best fit equation and line to the scatterplot.\n",
    "plt.annotate(equation, (16, 45), fontsize = 15)\n",
    "plt.plot(capomulin[\"Weight (g)\"], (capomulin[\"Weight (g)\"]*slope+intercept), \"-\", color = 'black')"
   ]
  }
 ],
 "metadata": {
  "anaconda-cloud": {},
  "kernelspec": {
   "display_name": "Python 3",
   "language": "python",
   "name": "python3"
  },
  "language_info": {
   "codemirror_mode": {
    "name": "ipython",
    "version": 3
   },
   "file_extension": ".py",
   "mimetype": "text/x-python",
   "name": "python",
   "nbconvert_exporter": "python",
   "pygments_lexer": "ipython3",
   "version": "3.6.10"
  }
 },
 "nbformat": 4,
 "nbformat_minor": 4
}
